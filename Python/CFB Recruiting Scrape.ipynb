{
 "cells": [
  {
   "cell_type": "markdown",
   "id": "bfca73cb-7204-4d42-bd81-88d9410f0fe9",
   "metadata": {},
   "source": [
    "### CFB Scrape"
   ]
  },
  {
   "cell_type": "code",
   "execution_count": 1,
   "id": "f36a2614-0d5a-4c80-a80e-bb907d68b293",
   "metadata": {},
   "outputs": [],
   "source": [
    "import requests, pandas as pd\n",
    "from bs4 import BeautifulSoup as soup\n",
    "def extract_rankings(source):\n",
    "   return [{\"Rank\":i.select_one('div.wrapper .rank-column .other').get_text(strip=True),\n",
    "       \"Team\":i.select_one('.team').get_text(strip=True),\n",
    "       \"Total\":i.select_one('.total').get_text(strip=True).split()[0],\n",
    "       \"5-Stars\":i.select_one('.star-commits-list li:nth-of-type(1) div').get_text(strip=True),\n",
    "       \"4-Stars\":i.select_one('.star-commits-list li:nth-of-type(2) div').get_text(strip=True),\n",
    "       \"3-Stars\":i.select_one('.star-commits-list li:nth-of-type(3) div').get_text(strip=True),\n",
    "       \"Ave\":i.select_one('.avg').get_text(strip=True),\n",
    "       \"Points\":i.select_one('.points').get_text(strip=True),\n",
    "    }\n",
    "    for i in soup(source, 'html.parser').select(\"\"\"li.rankings-page__list-item\"\"\")]\n",
    "\n",
    "def year_rankings(year):\n",
    "   page, results = 1, []\n",
    "   vals = extract_rankings(requests.get(f'https://247sports.com/Season/{year}-Football/CompositeTeamRankings/?ViewPath=~%2FViews%2FSkyNet%2FInstitutionRanking%2F_SimpleSetForSeason.ascx&Page={page}', headers={'User-Agent': 'Mozilla/5.0 (Linux; Android 6.0; Nexus 5 Build/MRA58N) AppleWebKit/537.36 (KHTML, like Gecko) Chrome/91.0.4472.77 Mobile Safari/537.36'}).text)\n",
    "   while vals:\n",
    "      results.extend(vals)\n",
    "      page += 1\n",
    "      vals = extract_rankings(requests.get(f'https://247sports.com/Season/{year}-Football/CompositeTeamRankings/?ViewPath=~%2FViews%2FSkyNet%2FInstitutionRanking%2F_SimpleSetForSeason.ascx&Page={page}', headers={'User-Agent': 'Mozilla/5.0 (Linux; Android 6.0; Nexus 5 Build/MRA58N) AppleWebKit/537.36 (KHTML, like Gecko) Chrome/91.0.4472.77 Mobile Safari/537.36'}).text)\n",
    "   return results\n",
    "\n",
    "results = {y:year_rankings(y) for y in range(2000, 2025)}\n",
    "df = pd.DataFrame([{'Year':a, **i} for a, b in results.items() for i in b])"
   ]
  },
  {
   "cell_type": "code",
   "execution_count": 2,
   "id": "3ec25fe9-7225-4301-b34a-15dd2aa263fa",
   "metadata": {},
   "outputs": [],
   "source": [
    "with pd.ExcelWriter('U:\\Administrative\\Personal\\cfb\\cfb_rank.xlsx') as writer:\n",
    "    df.to_excel(writer, sheet_name='cfb_recruiting')"
   ]
  }
 ],
 "metadata": {
  "kernelspec": {
   "display_name": "Python 3 (ipykernel)",
   "language": "python",
   "name": "python3"
  },
  "language_info": {
   "codemirror_mode": {
    "name": "ipython",
    "version": 3
   },
   "file_extension": ".py",
   "mimetype": "text/x-python",
   "name": "python",
   "nbconvert_exporter": "python",
   "pygments_lexer": "ipython3",
   "version": "3.9.10"
  }
 },
 "nbformat": 4,
 "nbformat_minor": 5
}
